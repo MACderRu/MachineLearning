{
 "cells": [
  {
   "cell_type": "markdown",
   "metadata": {
    "colab_type": "text",
    "id": "WTcxO72bBnfY"
   },
   "source": [
    "## NMT"
   ]
  },
  {
   "cell_type": "markdown",
   "metadata": {},
   "source": [
    "Используя оригинальную модель Transformer обучим на данных news-commentary"
   ]
  },
  {
   "cell_type": "code",
   "execution_count": 0,
   "metadata": {
    "colab": {
     "base_uri": "https://localhost:8080/",
     "height": 122
    },
    "colab_type": "code",
    "id": "cUcqAqnoDN2Z",
    "outputId": "d469c6a3-df7e-43e1-e839-d53e4194ac98"
   },
   "outputs": [
    {
     "name": "stdout",
     "output_type": "stream",
     "text": [
      "Collecting sentencepiece\n",
      "\u001b[?25l  Downloading https://files.pythonhosted.org/packages/74/f4/2d5214cbf13d06e7cb2c20d84115ca25b53ea76fa1f0ade0e3c9749de214/sentencepiece-0.1.85-cp36-cp36m-manylinux1_x86_64.whl (1.0MB)\n",
      "\r",
      "\u001b[K     |▎                               | 10kB 16.9MB/s eta 0:00:01\r",
      "\u001b[K     |▋                               | 20kB 3.1MB/s eta 0:00:01\r",
      "\u001b[K     |█                               | 30kB 4.4MB/s eta 0:00:01\r",
      "\u001b[K     |█▎                              | 40kB 5.7MB/s eta 0:00:01\r",
      "\u001b[K     |█▋                              | 51kB 3.7MB/s eta 0:00:01\r",
      "\u001b[K     |██                              | 61kB 4.4MB/s eta 0:00:01\r",
      "\u001b[K     |██▏                             | 71kB 5.0MB/s eta 0:00:01\r",
      "\u001b[K     |██▌                             | 81kB 5.6MB/s eta 0:00:01\r",
      "\u001b[K     |██▉                             | 92kB 6.2MB/s eta 0:00:01\r",
      "\u001b[K     |███▏                            | 102kB 4.8MB/s eta 0:00:01\r",
      "\u001b[K     |███▌                            | 112kB 4.8MB/s eta 0:00:01\r",
      "\u001b[K     |███▉                            | 122kB 4.8MB/s eta 0:00:01\r",
      "\u001b[K     |████                            | 133kB 4.8MB/s eta 0:00:01\r",
      "\u001b[K     |████▍                           | 143kB 4.8MB/s eta 0:00:01\r",
      "\u001b[K     |████▊                           | 153kB 4.8MB/s eta 0:00:01\r",
      "\u001b[K     |█████                           | 163kB 4.8MB/s eta 0:00:01\r",
      "\u001b[K     |█████▍                          | 174kB 4.8MB/s eta 0:00:01\r",
      "\u001b[K     |█████▊                          | 184kB 4.8MB/s eta 0:00:01\r",
      "\u001b[K     |██████                          | 194kB 4.8MB/s eta 0:00:01\r",
      "\u001b[K     |██████▎                         | 204kB 4.8MB/s eta 0:00:01\r",
      "\u001b[K     |██████▋                         | 215kB 4.8MB/s eta 0:00:01\r",
      "\u001b[K     |███████                         | 225kB 4.8MB/s eta 0:00:01\r",
      "\u001b[K     |███████▎                        | 235kB 4.8MB/s eta 0:00:01\r",
      "\u001b[K     |███████▋                        | 245kB 4.8MB/s eta 0:00:01\r",
      "\u001b[K     |███████▉                        | 256kB 4.8MB/s eta 0:00:01\r",
      "\u001b[K     |████████▏                       | 266kB 4.8MB/s eta 0:00:01\r",
      "\u001b[K     |████████▌                       | 276kB 4.8MB/s eta 0:00:01\r",
      "\u001b[K     |████████▉                       | 286kB 4.8MB/s eta 0:00:01\r",
      "\u001b[K     |█████████▏                      | 296kB 4.8MB/s eta 0:00:01\r",
      "\u001b[K     |█████████▌                      | 307kB 4.8MB/s eta 0:00:01\r",
      "\u001b[K     |█████████▊                      | 317kB 4.8MB/s eta 0:00:01\r",
      "\u001b[K     |██████████                      | 327kB 4.8MB/s eta 0:00:01\r",
      "\u001b[K     |██████████▍                     | 337kB 4.8MB/s eta 0:00:01\r",
      "\u001b[K     |██████████▊                     | 348kB 4.8MB/s eta 0:00:01\r",
      "\u001b[K     |███████████                     | 358kB 4.8MB/s eta 0:00:01\r",
      "\u001b[K     |███████████▍                    | 368kB 4.8MB/s eta 0:00:01\r",
      "\u001b[K     |███████████▋                    | 378kB 4.8MB/s eta 0:00:01\r",
      "\u001b[K     |████████████                    | 389kB 4.8MB/s eta 0:00:01\r",
      "\u001b[K     |████████████▎                   | 399kB 4.8MB/s eta 0:00:01\r",
      "\u001b[K     |████████████▋                   | 409kB 4.8MB/s eta 0:00:01\r",
      "\u001b[K     |█████████████                   | 419kB 4.8MB/s eta 0:00:01\r",
      "\u001b[K     |█████████████▎                  | 430kB 4.8MB/s eta 0:00:01\r",
      "\u001b[K     |█████████████▌                  | 440kB 4.8MB/s eta 0:00:01\r",
      "\u001b[K     |█████████████▉                  | 450kB 4.8MB/s eta 0:00:01\r",
      "\u001b[K     |██████████████▏                 | 460kB 4.8MB/s eta 0:00:01\r",
      "\u001b[K     |██████████████▌                 | 471kB 4.8MB/s eta 0:00:01\r",
      "\u001b[K     |██████████████▉                 | 481kB 4.8MB/s eta 0:00:01\r",
      "\u001b[K     |███████████████▏                | 491kB 4.8MB/s eta 0:00:01\r",
      "\u001b[K     |███████████████▍                | 501kB 4.8MB/s eta 0:00:01\r",
      "\u001b[K     |███████████████▊                | 512kB 4.8MB/s eta 0:00:01\r",
      "\u001b[K     |████████████████                | 522kB 4.8MB/s eta 0:00:01\r",
      "\u001b[K     |████████████████▍               | 532kB 4.8MB/s eta 0:00:01\r",
      "\u001b[K     |████████████████▊               | 542kB 4.8MB/s eta 0:00:01\r",
      "\u001b[K     |█████████████████               | 552kB 4.8MB/s eta 0:00:01\r",
      "\u001b[K     |█████████████████▎              | 563kB 4.8MB/s eta 0:00:01\r",
      "\u001b[K     |█████████████████▋              | 573kB 4.8MB/s eta 0:00:01\r",
      "\u001b[K     |██████████████████              | 583kB 4.8MB/s eta 0:00:01\r",
      "\u001b[K     |██████████████████▎             | 593kB 4.8MB/s eta 0:00:01\r",
      "\u001b[K     |██████████████████▋             | 604kB 4.8MB/s eta 0:00:01\r",
      "\u001b[K     |███████████████████             | 614kB 4.8MB/s eta 0:00:01\r",
      "\u001b[K     |███████████████████▏            | 624kB 4.8MB/s eta 0:00:01\r",
      "\u001b[K     |███████████████████▌            | 634kB 4.8MB/s eta 0:00:01\r",
      "\u001b[K     |███████████████████▉            | 645kB 4.8MB/s eta 0:00:01\r",
      "\u001b[K     |████████████████████▏           | 655kB 4.8MB/s eta 0:00:01\r",
      "\u001b[K     |████████████████████▌           | 665kB 4.8MB/s eta 0:00:01\r",
      "\u001b[K     |████████████████████▉           | 675kB 4.8MB/s eta 0:00:01\r",
      "\u001b[K     |█████████████████████▏          | 686kB 4.8MB/s eta 0:00:01\r",
      "\u001b[K     |█████████████████████▍          | 696kB 4.8MB/s eta 0:00:01\r",
      "\u001b[K     |█████████████████████▊          | 706kB 4.8MB/s eta 0:00:01\r",
      "\u001b[K     |██████████████████████          | 716kB 4.8MB/s eta 0:00:01\r",
      "\u001b[K     |██████████████████████▍         | 727kB 4.8MB/s eta 0:00:01\r",
      "\u001b[K     |██████████████████████▊         | 737kB 4.8MB/s eta 0:00:01\r",
      "\u001b[K     |███████████████████████         | 747kB 4.8MB/s eta 0:00:01\r",
      "\u001b[K     |███████████████████████▎        | 757kB 4.8MB/s eta 0:00:01\r",
      "\u001b[K     |███████████████████████▋        | 768kB 4.8MB/s eta 0:00:01\r",
      "\u001b[K     |████████████████████████        | 778kB 4.8MB/s eta 0:00:01\r",
      "\u001b[K     |████████████████████████▎       | 788kB 4.8MB/s eta 0:00:01\r",
      "\u001b[K     |████████████████████████▋       | 798kB 4.8MB/s eta 0:00:01\r",
      "\u001b[K     |█████████████████████████       | 808kB 4.8MB/s eta 0:00:01\r",
      "\u001b[K     |█████████████████████████▏      | 819kB 4.8MB/s eta 0:00:01\r",
      "\u001b[K     |█████████████████████████▌      | 829kB 4.8MB/s eta 0:00:01\r",
      "\u001b[K     |█████████████████████████▉      | 839kB 4.8MB/s eta 0:00:01\r",
      "\u001b[K     |██████████████████████████▏     | 849kB 4.8MB/s eta 0:00:01\r",
      "\u001b[K     |██████████████████████████▌     | 860kB 4.8MB/s eta 0:00:01\r",
      "\u001b[K     |██████████████████████████▉     | 870kB 4.8MB/s eta 0:00:01\r",
      "\u001b[K     |███████████████████████████     | 880kB 4.8MB/s eta 0:00:01\r",
      "\u001b[K     |███████████████████████████▍    | 890kB 4.8MB/s eta 0:00:01\r",
      "\u001b[K     |███████████████████████████▊    | 901kB 4.8MB/s eta 0:00:01\r",
      "\u001b[K     |████████████████████████████    | 911kB 4.8MB/s eta 0:00:01\r",
      "\u001b[K     |████████████████████████████▍   | 921kB 4.8MB/s eta 0:00:01\r",
      "\u001b[K     |████████████████████████████▊   | 931kB 4.8MB/s eta 0:00:01\r",
      "\u001b[K     |█████████████████████████████   | 942kB 4.8MB/s eta 0:00:01\r",
      "\u001b[K     |█████████████████████████████▎  | 952kB 4.8MB/s eta 0:00:01\r",
      "\u001b[K     |█████████████████████████████▋  | 962kB 4.8MB/s eta 0:00:01\r",
      "\u001b[K     |██████████████████████████████  | 972kB 4.8MB/s eta 0:00:01\r",
      "\u001b[K     |██████████████████████████████▎ | 983kB 4.8MB/s eta 0:00:01\r",
      "\u001b[K     |██████████████████████████████▋ | 993kB 4.8MB/s eta 0:00:01\r",
      "\u001b[K     |██████████████████████████████▉ | 1.0MB 4.8MB/s eta 0:00:01\r",
      "\u001b[K     |███████████████████████████████▏| 1.0MB 4.8MB/s eta 0:00:01\r",
      "\u001b[K     |███████████████████████████████▌| 1.0MB 4.8MB/s eta 0:00:01\r",
      "\u001b[K     |███████████████████████████████▉| 1.0MB 4.8MB/s eta 0:00:01\r",
      "\u001b[K     |████████████████████████████████| 1.0MB 4.8MB/s \n",
      "\u001b[?25hInstalling collected packages: sentencepiece\n",
      "Successfully installed sentencepiece-0.1.85\n"
     ]
    }
   ],
   "source": [
    "!pip install sentencepiece"
   ]
  },
  {
   "cell_type": "code",
   "execution_count": 1,
   "metadata": {
    "colab": {},
    "colab_type": "code",
    "id": "BnjIfJRh3l1N"
   },
   "outputs": [],
   "source": [
    "%load_ext autoreload\n",
    "%autoreload 2"
   ]
  },
  {
   "cell_type": "code",
   "execution_count": 2,
   "metadata": {
    "colab": {},
    "colab_type": "code",
    "id": "zV8xyKiRBnfc"
   },
   "outputs": [],
   "source": [
    "import sentencepiece as spm\n",
    "import torchtext\n",
    "from torchtext import data\n",
    "from torchtext import datasets\n",
    "from nltk.translate.bleu_score import corpus_bleu\n",
    "import pandas as pd\n",
    "from sklearn.model_selection import train_test_split\n",
    "import os\n",
    "import numpy as np\n",
    "\n",
    "from torch.utils.data import DataLoader\n",
    "\n",
    "import warnings\n",
    "warnings.filterwarnings('ignore')"
   ]
  },
  {
   "cell_type": "code",
   "execution_count": 3,
   "metadata": {
    "colab": {},
    "colab_type": "code",
    "id": "12vq37aZBnfk"
   },
   "outputs": [],
   "source": [
    "import torch\n",
    "import torch.nn as nn\n",
    "from torch.autograd import Variable"
   ]
  },
  {
   "cell_type": "code",
   "execution_count": 0,
   "metadata": {
    "colab": {
     "base_uri": "https://localhost:8080/",
     "height": 122
    },
    "colab_type": "code",
    "id": "ib9lVOJiEzOO",
    "outputId": "e3982be7-5f40-4476-ec64-4819a99d769b"
   },
   "outputs": [
    {
     "name": "stdout",
     "output_type": "stream",
     "text": [
      "Go to this URL in a browser: https://accounts.google.com/o/oauth2/auth?client_id=947318989803-6bn6qk8qdgf4n4g3pfee6491hc0brc4i.apps.googleusercontent.com&redirect_uri=urn%3aietf%3awg%3aoauth%3a2.0%3aoob&response_type=code&scope=email%20https%3a%2f%2fwww.googleapis.com%2fauth%2fdocs.test%20https%3a%2f%2fwww.googleapis.com%2fauth%2fdrive%20https%3a%2f%2fwww.googleapis.com%2fauth%2fdrive.photos.readonly%20https%3a%2f%2fwww.googleapis.com%2fauth%2fpeopleapi.readonly\n",
      "\n",
      "Enter your authorization code:\n",
      "··········\n",
      "Mounted at /content/drive\n"
     ]
    }
   ],
   "source": [
    "from google.colab import drive\n",
    "drive.mount('/content/drive')"
   ]
  },
  {
   "cell_type": "code",
   "execution_count": 0,
   "metadata": {
    "colab": {},
    "colab_type": "code",
    "id": "87WXkPCm0DF0"
   },
   "outputs": [],
   "source": [
    "!mkdir data/\n",
    "!cp drive/My\\ Drive/assignment_7/news-commentary-v13.ru-en.en data/\n",
    "!cp drive/My\\ Drive/assignment_7/news-commentary-v13.ru-en.ru data/\n",
    "\n",
    "!cp drive/My\\ Drive/assignment_7/transformer.py /content/\n",
    "!cp drive/My\\ Drive/assignment_7/beam_search.py /content/"
   ]
  },
  {
   "cell_type": "code",
   "execution_count": 5,
   "metadata": {
    "colab": {},
    "colab_type": "code",
    "id": "_b7dq9qP0Zbu"
   },
   "outputs": [],
   "source": [
    "from transformer import make_model\n",
    "from tqdm import tqdm\n",
    "from IPython.display import clear_output"
   ]
  },
  {
   "cell_type": "code",
   "execution_count": 4,
   "metadata": {
    "colab": {},
    "colab_type": "code",
    "id": "kCkLaNcTKLDd"
   },
   "outputs": [],
   "source": [
    "device = 'cuda' if torch.cuda.is_available() else 'cpu'"
   ]
  },
  {
   "cell_type": "markdown",
   "metadata": {
    "colab_type": "text",
    "id": "5Cz3204zBnfs"
   },
   "source": [
    "----"
   ]
  },
  {
   "cell_type": "markdown",
   "metadata": {
    "colab_type": "text",
    "id": "ab9TnNIrBnfv"
   },
   "source": [
    "### Предобработка данных"
   ]
  },
  {
   "cell_type": "code",
   "execution_count": 6,
   "metadata": {
    "colab": {},
    "colab_type": "code",
    "id": "3JYUQ19-Bnfw"
   },
   "outputs": [],
   "source": [
    "def get_data_obj(text_file, prefix, vocab_size=32000, char_coverage=0.98, model_type='bpe', is_src=False):\n",
    "    with open(text_file) as f:\n",
    "        dir_ = text_file.split('/')[0]\n",
    "        path = '/'.join([dir_, 'text.'+ prefix.split('_')[1]])\n",
    "        with open(path, 'w') as out:\n",
    "            out.write(f.read().lower())\n",
    "    \n",
    "    request = ' '.join([\"--input=\" + path, \n",
    "                        \"--model_prefix=\" + prefix,\n",
    "                        \"--vocab_size=\" + str(vocab_size),\n",
    "                        \"--character_coverage=\" + str(char_coverage),\n",
    "                        \"--model_type=\" + model_type])\n",
    "    spm.SentencePieceTrainer.Train(request)\n",
    "    token = spm.SentencePieceProcessor()\n",
    "    token.load('.'.join([prefix , 'model']))\n",
    "    tokenizer = lambda x: token.encode_as_pieces(x)\n",
    "    obj = torchtext.data.Field(\n",
    "        fix_length=50,\n",
    "        pad_token='<pad>',\n",
    "        unk_token='<unk>',\n",
    "        init_token='<s>',\n",
    "        eos_token='</s>',\n",
    "        lower=True,\n",
    "        tokenize = tokenizer,\n",
    "        batch_first=True,\n",
    "    )\n",
    "    \n",
    "    return obj"
   ]
  },
  {
   "cell_type": "code",
   "execution_count": 7,
   "metadata": {
    "colab": {},
    "colab_type": "code",
    "id": "wXl0spnlBnf1"
   },
   "outputs": [],
   "source": [
    "TGT = get_data_obj(text_file='data/news-commentary-v13.ru-en.en',\n",
    "                   prefix=\"bpe_en\")\n",
    "\n",
    "SRC = get_data_obj(text_file=\"data/news-commentary-v13.ru-en.ru\", is_src=True,\n",
    "                    prefix='bpe_ru', char_coverage=1.)"
   ]
  },
  {
   "cell_type": "code",
   "execution_count": 8,
   "metadata": {
    "colab": {},
    "colab_type": "code",
    "id": "QlM9XJDLEKtD"
   },
   "outputs": [],
   "source": [
    "fields = [('src', SRC), ('trg', TGT)]"
   ]
  },
  {
   "cell_type": "code",
   "execution_count": 9,
   "metadata": {
    "colab": {
     "base_uri": "https://localhost:8080/",
     "height": 34
    },
    "colab_type": "code",
    "id": "lt9J4XPhkEVq",
    "outputId": "3abbcc65-cad5-4b46-d928-1b50a814a316"
   },
   "outputs": [
    {
     "name": "stderr",
     "output_type": "stream",
     "text": [
      "235159it [00:59, 3927.59it/s]\n"
     ]
    }
   ],
   "source": [
    "with open('data/text.ru') as f:\n",
    "    src_snt = list(map(str.strip, f.readlines()))\n",
    "    \n",
    "with open('data/text.en') as f:\n",
    "    tgt_snt = list(map(str.strip, f.readlines()))\n",
    "    \n",
    "examples = [data.Example.fromlist(x, fields) for x in tqdm(zip(src_snt, tgt_snt))]\n",
    "test = data.Dataset(examples[-1000:], fields)\n",
    "\n",
    "split_id = round(len(examples[:-1000])*0.9)\n",
    "train = data.Dataset(examples[:split_id], fields)\n",
    "valid = data.Dataset(examples[split_id:-1000], fields)"
   ]
  },
  {
   "cell_type": "code",
   "execution_count": 10,
   "metadata": {
    "colab": {
     "base_uri": "https://localhost:8080/",
     "height": 71
    },
    "colab_type": "code",
    "id": "pWlpz28POR_9",
    "outputId": "c97475bb-f5ea-4555-ee91-7593ceb62b29"
   },
   "outputs": [
    {
     "name": "stdout",
     "output_type": "stream",
     "text": [
      "src: ▁несколько ▁недель ▁спустя , ▁я ▁столкнулась ▁с ▁одним ▁из ▁подобных ▁конфликтов : ▁собрание ▁членов ▁правления ▁здесь , ▁конференция ▁там , ▁и ▁еще ▁одна ▁перспектива ▁в ▁то ▁же ▁самое ▁время ▁еще ▁в ▁одном ▁месте .\n",
      "tgt: ▁a ▁couple ▁of ▁weeks ▁later , ▁i ▁was ▁faced ▁with ▁one ▁of ▁those ▁conflicts : ▁a ▁board ▁meeting ▁here , ▁a ▁conference ▁there , ▁another ▁opportunity ▁at ▁the ▁same ▁time ▁somewhere ▁else .\n"
     ]
    }
   ],
   "source": [
    "print('src: ' + \" \".join(train.examples[150].src))\n",
    "print('tgt: ' + \" \".join(train.examples[150].trg))"
   ]
  },
  {
   "cell_type": "code",
   "execution_count": 11,
   "metadata": {
    "colab": {
     "base_uri": "https://localhost:8080/",
     "height": 34
    },
    "colab_type": "code",
    "id": "nRVnj-6YtAfK",
    "outputId": "dc466360-7fbf-4870-d4c2-0d3927113a1d"
   },
   "outputs": [
    {
     "data": {
      "text/plain": [
       "(210743, 23416, 1000)"
      ]
     },
     "execution_count": 11,
     "metadata": {},
     "output_type": "execute_result"
    }
   ],
   "source": [
    "len(train), len(valid), len(test)"
   ]
  },
  {
   "cell_type": "code",
   "execution_count": 12,
   "metadata": {
    "colab": {},
    "colab_type": "code",
    "id": "BUe7tosOKcT6"
   },
   "outputs": [],
   "source": [
    "TGT.build_vocab(train, min_freq=5)\n",
    "SRC.build_vocab(train, min_freq=5)"
   ]
  },
  {
   "cell_type": "code",
   "execution_count": 13,
   "metadata": {
    "colab": {},
    "colab_type": "code",
    "id": "eoVAI1KcM9Ra"
   },
   "outputs": [],
   "source": [
    "class Batch:\n",
    "    \"Object for holding a batch of data with mask during training.\"\n",
    "    def __init__(self, src, trg=None, pad=0):\n",
    "        self.src = src\n",
    "        self.src_mask = (src != pad).unsqueeze(-2)\n",
    "        if trg is not None:\n",
    "            self.trg = trg[:, :-1]\n",
    "            self.trg_y = trg[:, 1:]\n",
    "            self.trg_mask = self.make_std_mask(self.trg, pad)\n",
    "            self.ntokens = (self.trg_y != pad).data.sum()\n",
    "    \n",
    "    @staticmethod\n",
    "    def make_std_mask(tgt, pad):\n",
    "        \"Create a mask to hide padding and future words.\"\n",
    "        tgt_mask = (tgt != pad).unsqueeze(-2)\n",
    "        tgt_mask = tgt_mask & subsequent_mask(tgt.size(-1)).type_as(tgt_mask.data).detach()\n",
    "        return tgt_mask\n",
    "\n",
    "class BucketIteratorWrapper(DataLoader):\n",
    "    __initialized = False\n",
    "\n",
    "    def __init__(self, iterator: data.Iterator):\n",
    "#         super(BucketIteratorWrapper,self).__init__()\n",
    "        self.batch_size = iterator.batch_size\n",
    "        self.num_workers = 1\n",
    "        self.collate_fn = None\n",
    "        self.pin_memory = False\n",
    "        self.drop_last = False\n",
    "        self.timeout = 0\n",
    "        self.worker_init_fn = None\n",
    "        self.sampler = iterator\n",
    "        self.batch_sampler = iterator\n",
    "        self.__initialized = True\n",
    "\n",
    "    def __iter__(self):\n",
    "        return map(\n",
    "            lambda batch: Batch(batch.src, batch.trg, pad=TGT.vocab.stoi['<pad>']),\n",
    "            self.batch_sampler.__iter__()\n",
    "        )\n",
    "\n",
    "    def __len__(self):\n",
    "        return len(self.batch_sampler)\n",
    "    \n",
    "class MyCriterion(nn.Module):\n",
    "    def __init__(self, pad_idx):\n",
    "        super(MyCriterion, self).__init__()\n",
    "        self.pad_idx = pad_idx\n",
    "        self.criterion = nn.CrossEntropyLoss(reduction='sum', ignore_index=pad_idx)\n",
    "        \n",
    "    def forward(self, x, target):\n",
    "        x = x.contiguous().permute(0,2,1)\n",
    "        ntokens = (target != self.pad_idx).data.sum()\n",
    "        \n",
    "        return self.criterion(x, target) / ntokens"
   ]
  },
  {
   "cell_type": "code",
   "execution_count": 14,
   "metadata": {
    "colab": {},
    "colab_type": "code",
    "id": "KfW0Mro4MNPx"
   },
   "outputs": [],
   "source": [
    "torch.cuda.empty_cache()\n",
    "\n",
    "\n",
    "train_iter, valid_iter, test_iter = data.BucketIterator.splits((train, valid, test), \n",
    "                                              batch_sizes=(64, 64, 1), \n",
    "                                  sort_key=lambda x: len(x.src),\n",
    "                                  shuffle=True,\n",
    "                                  device=device,\n",
    "                                  sort_within_batch=False)\n",
    "                                  \n",
    "train_iter = BucketIteratorWrapper(train_iter)\n",
    "valid_iter = BucketIteratorWrapper(valid_iter)\n",
    "test_iter = BucketIteratorWrapper(test_iter)"
   ]
  },
  {
   "cell_type": "markdown",
   "metadata": {
    "colab_type": "text",
    "id": "PfGrnCU21eXM"
   },
   "source": [
    "## Вспомогательные функции"
   ]
  },
  {
   "cell_type": "code",
   "execution_count": 15,
   "metadata": {
    "colab": {},
    "colab_type": "code",
    "id": "Ir8gsKndBngC"
   },
   "outputs": [],
   "source": [
    "class NoamOpt:\n",
    "    \"Optim wrapper that implements rate.\"\n",
    "    def __init__(self, model_size, factor, warmup, optimizer):\n",
    "        self.optimizer = optimizer\n",
    "        self._step = 0\n",
    "        self.warmup = warmup\n",
    "        self.factor = factor\n",
    "        self.model_size = model_size\n",
    "        self._rate = 0\n",
    "        \n",
    "    def step(self):\n",
    "        \"Update parameters and rate\"\n",
    "        self._step += 1\n",
    "        rate = self.rate()\n",
    "        for p in self.optimizer.param_groups:\n",
    "            p['lr'] = rate\n",
    "        self._rate = rate\n",
    "        self.optimizer.step()\n",
    "        \n",
    "    def rate(self, step = None):\n",
    "        \"Implement `lrate` above\"\n",
    "        if step is None:\n",
    "            step = self._step\n",
    "        return self.factor * \\\n",
    "            (self.model_size ** (-0.5) *\n",
    "            min(step ** (-0.5), step * self.warmup ** (-1.5)))\n",
    "        \n",
    "def get_std_opt(model):\n",
    "    return NoamOpt(model.src_embed[0].d_model, 2, 4000,\n",
    "            torch.optim.Adam(model.parameters(), lr=0, betas=(0.9, 0.98), eps=1e-9))"
   ]
  },
  {
   "cell_type": "code",
   "execution_count": 16,
   "metadata": {
    "colab": {},
    "colab_type": "code",
    "id": "RGMOmMTUBngI"
   },
   "outputs": [],
   "source": [
    "def subsequent_mask(size):\n",
    "    \"Mask out subsequent positions.\"\n",
    "    attn_shape = (1, size, size)\n",
    "    subsequent_mask = np.triu(np.ones(attn_shape), k=1).astype('uint8')\n",
    "    return torch.from_numpy(subsequent_mask) == 0\n"
   ]
  },
  {
   "cell_type": "markdown",
   "metadata": {
    "colab_type": "text",
    "id": "H_H1MUhVBngP"
   },
   "source": [
    "-----"
   ]
  },
  {
   "cell_type": "markdown",
   "metadata": {
    "colab_type": "text",
    "id": "2SyOwqnrBngQ"
   },
   "source": [
    "### Создание и обучение модели"
   ]
  },
  {
   "cell_type": "code",
   "execution_count": 17,
   "metadata": {
    "colab": {
     "base_uri": "https://localhost:8080/",
     "height": 34
    },
    "colab_type": "code",
    "id": "RrZhRNRMthgc",
    "outputId": "ca8ecd04-9606-4939-fb54-d9b0e63e16a1"
   },
   "outputs": [
    {
     "data": {
      "text/plain": [
       "False"
      ]
     },
     "execution_count": 17,
     "metadata": {},
     "output_type": "execute_result"
    }
   ],
   "source": [
    "torch.cuda.is_available()"
   ]
  },
  {
   "cell_type": "code",
   "execution_count": 18,
   "metadata": {
    "colab": {
     "base_uri": "https://localhost:8080/",
     "height": 375
    },
    "colab_type": "code",
    "id": "EPX5JJzGP_cQ",
    "outputId": "53d33a44-7b01-4e48-f413-7e4e37af0ffd"
   },
   "outputs": [],
   "source": [
    "pad_idx = TGT.vocab.stoi['<pad>']\n",
    "model = make_model(len(SRC.vocab), len(TGT.vocab), N=2)\n",
    "# model.cuda()\n",
    "model_opt = get_std_opt(model)\n",
    "criterion = MyCriterion(pad_idx)\n",
    "# criterion.cuda();"
   ]
  },
  {
   "cell_type": "code",
   "execution_count": 0,
   "metadata": {
    "colab": {
     "base_uri": "https://localhost:8080/",
     "height": 51
    },
    "colab_type": "code",
    "id": "rlMRWFcpNOEz",
    "outputId": "01869ef1-c736-4573-cd8d-7d8cbeb5a604"
   },
   "outputs": [
    {
     "name": "stdout",
     "output_type": "stream",
     "text": [
      "4.104262828826904\n",
      "valid 2.3165018174166234\n"
     ]
    }
   ],
   "source": [
    "def train_epoch(data_iter, model, criterion):\n",
    "    total_loss = 0\n",
    "    counter = 0\n",
    "    for batch in data_iter:\n",
    "        pred = model.forward(batch)\n",
    "        loss = criterion(pred, batch.trg_y)\n",
    "        loss.backward()\n",
    "        torch.nn.utils.clip_grad_norm_(model.parameters(), 0.5)\n",
    "        model_opt.step()\n",
    "        \n",
    "        total_loss += loss\n",
    "        # data_iter.set_postfix(loss = loss)\n",
    "        counter +=1\n",
    "        \n",
    "    total_loss /= counter\n",
    "    return total_loss\n",
    "\n",
    "def valid_epoch(data_iter, model, criterion):\n",
    "    total_loss = 0\n",
    "    counter = 0\n",
    "    for batch in data_iter:\n",
    "        pred = model.forward(batch)\n",
    "        clear_output(True)\n",
    "        loss = criterion(pred, batch.trg_y).item()\n",
    "        print(loss)\n",
    "        total_loss += loss\n",
    "        # data_iter.set_postfix(loss = loss)\n",
    "        counter +=1\n",
    "        \n",
    "    total_loss /= counter\n",
    "    return total_loss\n",
    "\n",
    "model.generator.proj.weight = model.tgt_embed[0].lut.weight\n",
    "\n",
    "for epoch in range(10):\n",
    "    model.train()\n",
    "    loss = train_epoch(train_iter, model, criterion)\n",
    "    print('train', loss)\n",
    "    \n",
    "    model.eval()\n",
    "    with torch.no_grad():\n",
    "        loss = valid_epoch(valid_iter, model, criterion)\n",
    "        print('valid', loss)"
   ]
  },
  {
   "cell_type": "code",
   "execution_count": 64,
   "metadata": {
    "colab": {},
    "colab_type": "code",
    "id": "_H5kVL74_igV"
   },
   "outputs": [],
   "source": [
    "def beam_search(model, src, src_mask, max_len=5, k=5):\n",
    "    memory = model.encode(src, src_mask)\n",
    "    start_s = torch.ones(1, 1).fill_(TGT.vocab.stoi['<s>']).type_as(src.data)\n",
    "    beam = [(start_s, 0)]\n",
    "    for i in range(max_len):\n",
    "        chars = []\n",
    "        probas = []\n",
    "        for ys, log_prob in beam:\n",
    "            if ys[0][-1] == TGT.vocab.stoi['</s>']:\n",
    "                chars.append(ys)\n",
    "                probas.append(log_prob)\n",
    "            else:\n",
    "                tgt_mask = subsequent_mask(ys.size(-1)).type_as(src.data).detach().to(device)\n",
    "                probs = model.decode(ys, tgt_mask, memory, src_mask)[0][i]\n",
    "                probs, idxs = torch.topk(probs, k)\n",
    "                for idx, new_c in enumerate(idxs.squeeze(0)):\n",
    "                    new_c_tensor = torch.ones(1, 1).type_as(src.data).fill_(new_c).to(device)\n",
    "                    chars.append(torch.cat([ys, new_c_tensor], dim=1))\n",
    "                    probas.append(log_prob + np.log(probs[idx].item()))\n",
    "        probas = torch.tensor(probas)\n",
    "        vals, idxs = torch.topk(probas, k)\n",
    "        beam = [(c, p.item()) for c, p in zip(chars, probas)]\n",
    "    return beam"
   ]
  },
  {
   "cell_type": "code",
   "execution_count": 0,
   "metadata": {
    "colab": {},
    "colab_type": "code",
    "id": "coyQbgqf_zCg"
   },
   "outputs": [],
   "source": [
    "torch.save(model.state_dict(), 'model_de_best.pth.tar')"
   ]
  },
  {
   "cell_type": "code",
   "execution_count": 0,
   "metadata": {
    "colab": {},
    "colab_type": "code",
    "id": "mFCW_nLtPn5c"
   },
   "outputs": [],
   "source": [
    "!cp model_de_best.pth.tar drive/My\\ Drive/assignment_7/"
   ]
  },
  {
   "cell_type": "code",
   "execution_count": 0,
   "metadata": {
    "colab": {},
    "colab_type": "code",
    "id": "U7OJs2NzW_bb"
   },
   "outputs": [],
   "source": [
    "model_path = 'drive/My Drive/assignment_7/model_de_best.pth.tar'\n",
    "\n",
    "model.load_state_dict(torch.load(model_path, map_location=torch.device('cuda')))\n",
    "model.eval();"
   ]
  },
  {
   "cell_type": "code",
   "execution_count": null,
   "metadata": {
    "colab": {},
    "colab_type": "code",
    "id": "9k2E6UpF1Z2p"
   },
   "outputs": [],
   "source": [
    "hypotheses = []\n",
    "references = []\n",
    "\n",
    "model.eval()\n",
    "with torch.no_grad():\n",
    "    for batch in test_iter:        \n",
    "        src = batch.src[:1]\n",
    "        trg = batch.trg[:1][0]\n",
    "        src_mask = src != SRC.vocab.stoi[\"<pad>\"]\n",
    "\n",
    "        beam = beam_search(model, src, src_mask)\n",
    "\n",
    "        pred, log_proba = beam[0]\n",
    "        tokens = pred[0]\n",
    "\n",
    "        new_hyp = []\n",
    "        for i in range(1, len(tokens)):\n",
    "            sym = TGT.vocab.itos[tokens[i]]\n",
    "            if sym == '</s>': break\n",
    "            new_hyp.append(sym)\n",
    "        hypotheses.append(new_hyp)\n",
    "\n",
    "        new_ref = []\n",
    "        for i in range(1, len(trg)):\n",
    "            sym = TGT.vocab.itos[trg[i]]\n",
    "            if sym == '</s>': break\n",
    "            new_ref.append(sym)\n",
    "        references.append([new_ref])"
   ]
  },
  {
   "cell_type": "code",
   "execution_count": 0,
   "metadata": {
    "colab": {},
    "colab_type": "code",
    "id": "z7t0jyYPF0XV"
   },
   "outputs": [],
   "source": [
    "from nltk.translate.bleu_score import corpus_bleu\n",
    "from nltk.translate.bleu_score import SmoothingFunction"
   ]
  },
  {
   "cell_type": "code",
   "execution_count": 0,
   "metadata": {
    "colab": {},
    "colab_type": "code",
    "id": "R0827mrYFUcY"
   },
   "outputs": [],
   "source": [
    "final_score = corpus_bleu(references[1:], hypotheses[1:],\n",
    "                          smoothing_function=SmoothingFunction().method3,\n",
    "                          auto_reweigh=True)"
   ]
  },
  {
   "cell_type": "code",
   "execution_count": 0,
   "metadata": {
    "colab": {
     "base_uri": "https://localhost:8080/",
     "height": 34
    },
    "colab_type": "code",
    "id": "AYtQWSii7TD9",
    "outputId": "9fec7216-f63c-44e7-b720-c39f5f45cf9f"
   },
   "outputs": [
    {
     "name": "stdout",
     "output_type": "stream",
     "text": [
      "final score is 0.19645950075706967\n"
     ]
    }
   ],
   "source": [
    "print(\"final score is {}\".format(final_score))"
   ]
  },
  {
   "cell_type": "markdown",
   "metadata": {},
   "source": [
    "BLEU == 0.2"
   ]
  },
  {
   "cell_type": "markdown",
   "metadata": {
    "colab_type": "text",
    "id": "Djken5fv9z3X"
   },
   "source": [
    "Оценим количество неизвестных токенов в предложениях"
   ]
  },
  {
   "cell_type": "code",
   "execution_count": 0,
   "metadata": {
    "colab": {},
    "colab_type": "code",
    "id": "WO-11rC_8BmT"
   },
   "outputs": [],
   "source": [
    "unk_token = TGT.vocab.stoi['<unk>']\n",
    "\n",
    "general_unk_freq = []\n",
    "for tokenized in references[1:]:\n",
    "    unk_per_sentence = 0\n",
    "    for token in tokenized[0]:\n",
    "        if TGT.vocab.stoi[token] == unk_token:\n",
    "            unk_per_sentence += 1\n",
    "    unk_per_sentence /= len(tokenized[0])\n",
    "    general_unk_freq.append(unk_per_sentence)\n",
    "\n",
    "general_unk_freq = np.array(general_unk_freq)"
   ]
  },
  {
   "cell_type": "code",
   "execution_count": 0,
   "metadata": {
    "colab": {},
    "colab_type": "code",
    "id": "Qp5mK-W28HzI"
   },
   "outputs": [],
   "source": [
    "general_unk_freq[general_unk_freq == 0.] = np.nan\n",
    "mean = np.nanmean(general_unk_freq)"
   ]
  },
  {
   "cell_type": "code",
   "execution_count": 0,
   "metadata": {
    "colab": {
     "base_uri": "https://localhost:8080/",
     "height": 34
    },
    "colab_type": "code",
    "id": "qyCwqpEc8yxf",
    "outputId": "62f91078-197c-47b2-e5e8-43ff1ffb5de3"
   },
   "outputs": [
    {
     "name": "stdout",
     "output_type": "stream",
     "text": [
      "0.038851899386000324\n"
     ]
    }
   ],
   "source": [
    "print(mean)"
   ]
  },
  {
   "cell_type": "code",
   "execution_count": 0,
   "metadata": {
    "colab": {
     "base_uri": "https://localhost:8080/",
     "height": 34
    },
    "colab_type": "code",
    "id": "ebPPTrVH-Fod",
    "outputId": "23c5a1d1-4b4e-4b69-d11d-dd4595a27d30"
   },
   "outputs": [
    {
     "name": "stdout",
     "output_type": "stream",
     "text": [
      "0.1061061061061061\n"
     ]
    }
   ],
   "source": [
    "unk_token = TGT.vocab.stoi['<unk>']\n",
    "\n",
    "sum_unks = 0\n",
    "for tokenized in references[1:]:\n",
    "    for token in tokenized[0]:\n",
    "        if TGT.vocab.stoi[token] == unk_token:\n",
    "            sum_unks += 1\n",
    "            break\n",
    "\n",
    "print(sum_unks/len(references[1:]))"
   ]
  },
  {
   "cell_type": "markdown",
   "metadata": {
    "colab_type": "text",
    "id": "lFUV_-xn948U"
   },
   "source": [
    "Видно, что предложений с оригинальным переводом, в которых встречаются неизвестные токены около 3%, но тем не менее модель на 20ти эпохах с функцией потерь Перекрестная энтропия не дает сильно хорошего качества."
   ]
  },
  {
   "cell_type": "code",
   "execution_count": 0,
   "metadata": {
    "colab": {},
    "colab_type": "code",
    "id": "4CV9zgt6-s7g"
   },
   "outputs": [],
   "source": []
  }
 ],
 "metadata": {
  "accelerator": "GPU",
  "colab": {
   "collapsed_sections": [],
   "machine_shape": "hm",
   "name": "assignment_7.ipynb",
   "provenance": [],
   "toc_visible": true
  },
  "kernelspec": {
   "display_name": "Python 3",
   "language": "python",
   "name": "python3"
  },
  "language_info": {
   "codemirror_mode": {
    "name": "ipython",
    "version": 3
   },
   "file_extension": ".py",
   "mimetype": "text/x-python",
   "name": "python",
   "nbconvert_exporter": "python",
   "pygments_lexer": "ipython3",
   "version": "3.7.2"
  }
 },
 "nbformat": 4,
 "nbformat_minor": 1
}
